{
 "cells": [
  {
   "cell_type": "code",
   "execution_count": null,
   "metadata": {},
   "outputs": [],
   "source": [
    "# Variance : \n",
    "\n",
    "\n",
    "# Standard Deviation :\n"
   ]
  },
  {
   "cell_type": "code",
   "execution_count": 5,
   "metadata": {},
   "outputs": [],
   "source": [
    "%matplotlib inline\n",
    "\n",
    "\n",
    "# Imports \n",
    "import numpy as np\n",
    "import pandas as pd\n",
    "import matplotlib.pyplot as plt\n",
    "from math import sqrt\n",
    "from scipy.stats import mode\n"
   ]
  },
  {
   "cell_type": "code",
   "execution_count": 11,
   "metadata": {},
   "outputs": [
    {
     "name": "stdout",
     "output_type": "stream",
     "text": [
      "[11 28 90 72 66 40 90 89 96 91 14 29 20 85 62 33 40 80 77 68 34 94 89 20\n",
      " 21 46 13 29 29 68 49 11 20 26 71 67 21 91 74 59 61 57 82 60 30 74 25 66\n",
      " 86 25 28 67 81 63 66 66 67 71 81 86 78 96 16 35 85 11 90 81 77 98 42 57\n",
      " 54 56 39 57 18 18 41 80 10 40 20 40 35 23 87 99 26 46 59 91 20 50 30 75\n",
      " 22 35 55 21]\n",
      "Vairance : 713.4576  \n",
      " Standard Deviation : 26.710627098591303\n",
      "Square root of variance = 26.710627098591303\n"
     ]
    }
   ],
   "source": [
    "# Data \n",
    "Data = np.random.randint(low=10, high=100, size=100)\n",
    "print(Data)\n",
    "\n",
    "variance = Data.var()\n",
    "std_dev = Data.std()\n",
    "\n",
    "print(\"Vairance : {}  \\n Standard Deviation : {}\".format(variance, std_dev))\n",
    "print(\"Square root of variance = {}\".format(sqrt(variance)))"
   ]
  },
  {
   "cell_type": "code",
   "execution_count": null,
   "metadata": {},
   "outputs": [],
   "source": []
  }
 ],
 "metadata": {
  "kernelspec": {
   "display_name": "Python 3",
   "language": "python",
   "name": "python3"
  },
  "language_info": {
   "codemirror_mode": {
    "name": "ipython",
    "version": 3
   },
   "file_extension": ".py",
   "mimetype": "text/x-python",
   "name": "python",
   "nbconvert_exporter": "python",
   "pygments_lexer": "ipython3",
   "version": "3.5.4"
  }
 },
 "nbformat": 4,
 "nbformat_minor": 2
}
